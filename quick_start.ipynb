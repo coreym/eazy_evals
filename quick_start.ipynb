{
 "cells": [
  {
   "cell_type": "code",
   "execution_count": 2,
   "id": "1b65127a-9c0d-428f-b4fd-db65947fb580",
   "metadata": {
    "collapsed": true,
    "jupyter": {
     "outputs_hidden": true
    }
   },
   "outputs": [
    {
     "name": "stdout",
     "output_type": "stream",
     "text": [
      "Defaulting to user installation because normal site-packages is not writeable\n",
      "Requirement already satisfied: google-cloud-aiplatform in /Users/coreymaher/Library/Python/3.9/lib/python/site-packages (1.31.0)\n",
      "Collecting google-cloud-aiplatform\n",
      "  Downloading google_cloud_aiplatform-1.38.1-py2.py3-none-any.whl.metadata (27 kB)\n",
      "Requirement already satisfied: google-api-core!=2.0.*,!=2.1.*,!=2.2.*,!=2.3.*,!=2.4.*,!=2.5.*,!=2.6.*,!=2.7.*,<3.0.0dev,>=1.32.0 in /Users/coreymaher/Library/Python/3.9/lib/python/site-packages (from google-api-core[grpc]!=2.0.*,!=2.1.*,!=2.2.*,!=2.3.*,!=2.4.*,!=2.5.*,!=2.6.*,!=2.7.*,<3.0.0dev,>=1.32.0->google-cloud-aiplatform) (2.11.1)\n",
      "Requirement already satisfied: proto-plus<2.0.0dev,>=1.22.0 in /Users/coreymaher/Library/Python/3.9/lib/python/site-packages (from google-cloud-aiplatform) (1.22.3)\n",
      "Requirement already satisfied: protobuf!=3.20.0,!=3.20.1,!=4.21.0,!=4.21.1,!=4.21.2,!=4.21.3,!=4.21.4,!=4.21.5,<5.0.0dev,>=3.19.5 in /Users/coreymaher/Library/Python/3.9/lib/python/site-packages (from google-cloud-aiplatform) (4.24.3)\n",
      "Requirement already satisfied: packaging>=14.3 in /Users/coreymaher/Library/Python/3.9/lib/python/site-packages (from google-cloud-aiplatform) (23.1)\n",
      "Requirement already satisfied: google-cloud-storage<3.0.0dev,>=1.32.0 in /Users/coreymaher/Library/Python/3.9/lib/python/site-packages (from google-cloud-aiplatform) (2.10.0)\n",
      "Requirement already satisfied: google-cloud-bigquery<4.0.0dev,>=1.15.0 in /Users/coreymaher/Library/Python/3.9/lib/python/site-packages (from google-cloud-aiplatform) (3.11.4)\n",
      "Requirement already satisfied: google-cloud-resource-manager<3.0.0dev,>=1.3.3 in /Users/coreymaher/Library/Python/3.9/lib/python/site-packages (from google-cloud-aiplatform) (1.10.3)\n",
      "Requirement already satisfied: shapely<3.0.0dev in /Users/coreymaher/Library/Python/3.9/lib/python/site-packages (from google-cloud-aiplatform) (1.8.5.post1)\n",
      "Requirement already satisfied: googleapis-common-protos<2.0.dev0,>=1.56.2 in /Users/coreymaher/Library/Python/3.9/lib/python/site-packages (from google-api-core!=2.0.*,!=2.1.*,!=2.2.*,!=2.3.*,!=2.4.*,!=2.5.*,!=2.6.*,!=2.7.*,<3.0.0dev,>=1.32.0->google-api-core[grpc]!=2.0.*,!=2.1.*,!=2.2.*,!=2.3.*,!=2.4.*,!=2.5.*,!=2.6.*,!=2.7.*,<3.0.0dev,>=1.32.0->google-cloud-aiplatform) (1.60.0)\n",
      "Requirement already satisfied: google-auth<3.0.dev0,>=2.14.1 in /Users/coreymaher/Library/Python/3.9/lib/python/site-packages (from google-api-core!=2.0.*,!=2.1.*,!=2.2.*,!=2.3.*,!=2.4.*,!=2.5.*,!=2.6.*,!=2.7.*,<3.0.0dev,>=1.32.0->google-api-core[grpc]!=2.0.*,!=2.1.*,!=2.2.*,!=2.3.*,!=2.4.*,!=2.5.*,!=2.6.*,!=2.7.*,<3.0.0dev,>=1.32.0->google-cloud-aiplatform) (2.23.0)\n",
      "Requirement already satisfied: requests<3.0.0.dev0,>=2.18.0 in /Users/coreymaher/Library/Python/3.9/lib/python/site-packages (from google-api-core!=2.0.*,!=2.1.*,!=2.2.*,!=2.3.*,!=2.4.*,!=2.5.*,!=2.6.*,!=2.7.*,<3.0.0dev,>=1.32.0->google-api-core[grpc]!=2.0.*,!=2.1.*,!=2.2.*,!=2.3.*,!=2.4.*,!=2.5.*,!=2.6.*,!=2.7.*,<3.0.0dev,>=1.32.0->google-cloud-aiplatform) (2.31.0)\n",
      "Requirement already satisfied: grpcio<2.0dev,>=1.33.2 in /Users/coreymaher/Library/Python/3.9/lib/python/site-packages (from google-api-core[grpc]!=2.0.*,!=2.1.*,!=2.2.*,!=2.3.*,!=2.4.*,!=2.5.*,!=2.6.*,!=2.7.*,<3.0.0dev,>=1.32.0->google-cloud-aiplatform) (1.58.0)\n",
      "Requirement already satisfied: grpcio-status<2.0.dev0,>=1.33.2 in /Users/coreymaher/Library/Python/3.9/lib/python/site-packages (from google-api-core[grpc]!=2.0.*,!=2.1.*,!=2.2.*,!=2.3.*,!=2.4.*,!=2.5.*,!=2.6.*,!=2.7.*,<3.0.0dev,>=1.32.0->google-cloud-aiplatform) (1.58.0)\n",
      "Requirement already satisfied: google-cloud-core<3.0.0dev,>=1.6.0 in /Users/coreymaher/Library/Python/3.9/lib/python/site-packages (from google-cloud-bigquery<4.0.0dev,>=1.15.0->google-cloud-aiplatform) (2.3.3)\n",
      "Requirement already satisfied: google-resumable-media<3.0dev,>=0.6.0 in /Users/coreymaher/Library/Python/3.9/lib/python/site-packages (from google-cloud-bigquery<4.0.0dev,>=1.15.0->google-cloud-aiplatform) (2.6.0)\n",
      "Requirement already satisfied: python-dateutil<3.0dev,>=2.7.2 in /Users/coreymaher/Library/Python/3.9/lib/python/site-packages (from google-cloud-bigquery<4.0.0dev,>=1.15.0->google-cloud-aiplatform) (2.8.2)\n",
      "Requirement already satisfied: grpc-google-iam-v1<1.0.0dev,>=0.12.4 in /Users/coreymaher/Library/Python/3.9/lib/python/site-packages (from google-cloud-resource-manager<3.0.0dev,>=1.3.3->google-cloud-aiplatform) (0.12.6)\n",
      "Requirement already satisfied: cachetools<6.0,>=2.0.0 in /Users/coreymaher/Library/Python/3.9/lib/python/site-packages (from google-auth<3.0.dev0,>=2.14.1->google-api-core!=2.0.*,!=2.1.*,!=2.2.*,!=2.3.*,!=2.4.*,!=2.5.*,!=2.6.*,!=2.7.*,<3.0.0dev,>=1.32.0->google-api-core[grpc]!=2.0.*,!=2.1.*,!=2.2.*,!=2.3.*,!=2.4.*,!=2.5.*,!=2.6.*,!=2.7.*,<3.0.0dev,>=1.32.0->google-cloud-aiplatform) (5.3.1)\n",
      "Requirement already satisfied: pyasn1-modules>=0.2.1 in /Users/coreymaher/Library/Python/3.9/lib/python/site-packages (from google-auth<3.0.dev0,>=2.14.1->google-api-core!=2.0.*,!=2.1.*,!=2.2.*,!=2.3.*,!=2.4.*,!=2.5.*,!=2.6.*,!=2.7.*,<3.0.0dev,>=1.32.0->google-api-core[grpc]!=2.0.*,!=2.1.*,!=2.2.*,!=2.3.*,!=2.4.*,!=2.5.*,!=2.6.*,!=2.7.*,<3.0.0dev,>=1.32.0->google-cloud-aiplatform) (0.3.0)\n",
      "Requirement already satisfied: rsa<5,>=3.1.4 in /Users/coreymaher/Library/Python/3.9/lib/python/site-packages (from google-auth<3.0.dev0,>=2.14.1->google-api-core!=2.0.*,!=2.1.*,!=2.2.*,!=2.3.*,!=2.4.*,!=2.5.*,!=2.6.*,!=2.7.*,<3.0.0dev,>=1.32.0->google-api-core[grpc]!=2.0.*,!=2.1.*,!=2.2.*,!=2.3.*,!=2.4.*,!=2.5.*,!=2.6.*,!=2.7.*,<3.0.0dev,>=1.32.0->google-cloud-aiplatform) (4.9)\n",
      "Requirement already satisfied: urllib3<2.0 in /Users/coreymaher/Library/Python/3.9/lib/python/site-packages (from google-auth<3.0.dev0,>=2.14.1->google-api-core!=2.0.*,!=2.1.*,!=2.2.*,!=2.3.*,!=2.4.*,!=2.5.*,!=2.6.*,!=2.7.*,<3.0.0dev,>=1.32.0->google-api-core[grpc]!=2.0.*,!=2.1.*,!=2.2.*,!=2.3.*,!=2.4.*,!=2.5.*,!=2.6.*,!=2.7.*,<3.0.0dev,>=1.32.0->google-cloud-aiplatform) (1.26.16)\n",
      "Requirement already satisfied: google-crc32c<2.0dev,>=1.0 in /Users/coreymaher/Library/Python/3.9/lib/python/site-packages (from google-resumable-media<3.0dev,>=0.6.0->google-cloud-bigquery<4.0.0dev,>=1.15.0->google-cloud-aiplatform) (1.5.0)\n",
      "Requirement already satisfied: six>=1.5 in /Applications/Xcode.app/Contents/Developer/Library/Frameworks/Python3.framework/Versions/3.9/lib/python3.9/site-packages (from python-dateutil<3.0dev,>=2.7.2->google-cloud-bigquery<4.0.0dev,>=1.15.0->google-cloud-aiplatform) (1.15.0)\n",
      "Requirement already satisfied: charset-normalizer<4,>=2 in /Users/coreymaher/Library/Python/3.9/lib/python/site-packages (from requests<3.0.0.dev0,>=2.18.0->google-api-core!=2.0.*,!=2.1.*,!=2.2.*,!=2.3.*,!=2.4.*,!=2.5.*,!=2.6.*,!=2.7.*,<3.0.0dev,>=1.32.0->google-api-core[grpc]!=2.0.*,!=2.1.*,!=2.2.*,!=2.3.*,!=2.4.*,!=2.5.*,!=2.6.*,!=2.7.*,<3.0.0dev,>=1.32.0->google-cloud-aiplatform) (3.2.0)\n",
      "Requirement already satisfied: idna<4,>=2.5 in /Users/coreymaher/Library/Python/3.9/lib/python/site-packages (from requests<3.0.0.dev0,>=2.18.0->google-api-core!=2.0.*,!=2.1.*,!=2.2.*,!=2.3.*,!=2.4.*,!=2.5.*,!=2.6.*,!=2.7.*,<3.0.0dev,>=1.32.0->google-api-core[grpc]!=2.0.*,!=2.1.*,!=2.2.*,!=2.3.*,!=2.4.*,!=2.5.*,!=2.6.*,!=2.7.*,<3.0.0dev,>=1.32.0->google-cloud-aiplatform) (3.4)\n",
      "Requirement already satisfied: certifi>=2017.4.17 in /Users/coreymaher/Library/Python/3.9/lib/python/site-packages (from requests<3.0.0.dev0,>=2.18.0->google-api-core!=2.0.*,!=2.1.*,!=2.2.*,!=2.3.*,!=2.4.*,!=2.5.*,!=2.6.*,!=2.7.*,<3.0.0dev,>=1.32.0->google-api-core[grpc]!=2.0.*,!=2.1.*,!=2.2.*,!=2.3.*,!=2.4.*,!=2.5.*,!=2.6.*,!=2.7.*,<3.0.0dev,>=1.32.0->google-cloud-aiplatform) (2023.7.22)\n",
      "Requirement already satisfied: pyasn1<0.6.0,>=0.4.6 in /Users/coreymaher/Library/Python/3.9/lib/python/site-packages (from pyasn1-modules>=0.2.1->google-auth<3.0.dev0,>=2.14.1->google-api-core!=2.0.*,!=2.1.*,!=2.2.*,!=2.3.*,!=2.4.*,!=2.5.*,!=2.6.*,!=2.7.*,<3.0.0dev,>=1.32.0->google-api-core[grpc]!=2.0.*,!=2.1.*,!=2.2.*,!=2.3.*,!=2.4.*,!=2.5.*,!=2.6.*,!=2.7.*,<3.0.0dev,>=1.32.0->google-cloud-aiplatform) (0.5.0)\n",
      "Downloading google_cloud_aiplatform-1.38.1-py2.py3-none-any.whl (3.4 MB)\n",
      "\u001b[2K   \u001b[90m━━━━━━━━━━━━━━━━━━━━━━━━━━━━━━━━━━━━━━━━\u001b[0m \u001b[32m3.4/3.4 MB\u001b[0m \u001b[31m28.9 MB/s\u001b[0m eta \u001b[36m0:00:00\u001b[0m00:01\u001b[0m00:01\u001b[0m\n",
      "\u001b[?25hInstalling collected packages: google-cloud-aiplatform\n",
      "  Attempting uninstall: google-cloud-aiplatform\n",
      "    Found existing installation: google-cloud-aiplatform 1.31.0\n",
      "    Uninstalling google-cloud-aiplatform-1.31.0:\n",
      "      Successfully uninstalled google-cloud-aiplatform-1.31.0\n",
      "Successfully installed google-cloud-aiplatform-1.38.1\n"
     ]
    }
   ],
   "source": [
    "!pip install --upgrade google-cloud-aiplatform"
   ]
  },
  {
   "cell_type": "code",
   "execution_count": 57,
   "id": "8ecb6949-d2c2-4eea-b740-5df154be9b81",
   "metadata": {},
   "outputs": [],
   "source": [
    "from datetime import datetime\n",
    "import llm_evals\n",
    "import logging\n",
    "import vertexai\n",
    "from vertexai.preview.generative_models import GenerativeModel, Part"
   ]
  },
  {
   "cell_type": "code",
   "execution_count": 58,
   "id": "57d884b7-c17e-4a3f-898f-34570d9be20b",
   "metadata": {},
   "outputs": [],
   "source": [
    "LOGGING_OUTPUT=[\"stdout\"] # stdout, csv, jsonl, sqlite(TODO)\n",
    "METRICS=[\"exact_match\"] # exact_match, rouge, levenshtein, cosine(TODO), custom(TODO)\n",
    "MODEL=[\"gemini-pro\"]\n",
    "#  **Google:**\n",
    "# \t- gemini-pro\t\n",
    "# \t- text-bison@001\n",
    "# \t- text-bison@002\n",
    "# \t- text-unicorn@001\n",
    "# TODO: \n",
    "# - text-bison-32k@002\n",
    "# \t- MedLM-large\n",
    "# \t- MedLM-medium\n",
    "# \t- code-bison-32k@002\n",
    "# \t- code-bison@001\n",
    "# \t- code-gecko@001\n",
    "# \t- code-gecko@002\n",
    "#  **OpenAI:**\n",
    "# \t- GPT-3.5 Turbo\n",
    "# \t- GPT-4\n",
    "# \t- GPT-4 Turbo\n",
    "\n",
    "configs = {\n",
    "    \"model\": MODEL,\n",
    "    \"metrics\": METRICS,\n",
    "    \"logging_output\": LOGGING_OUTPUT,\n",
    "    \"prompt_file\": \"sample2.jsonl\"\n",
    "}"
   ]
  },
  {
   "cell_type": "code",
   "execution_count": 59,
   "id": "f4c091ed-fec7-470c-b4b6-173a92f162b3",
   "metadata": {},
   "outputs": [],
   "source": [
    "PROJECT_ID = \"eazy-evals\"\n",
    "LOCATION = \"us-central1\" #e.g. us-central1\n",
    "vertexai.init()"
   ]
  },
  {
   "cell_type": "code",
   "execution_count": 60,
   "id": "baccd80e-eaf6-4c92-8501-07f99cfaa626",
   "metadata": {},
   "outputs": [],
   "source": [
    "def generate(configs, prompt=\"tell me a joke\"):\n",
    "    #TODO: wrap in an iterator for the models listed in the configs array\n",
    "    model = GenerativeModel(configs[\"model\"][0])\n",
    "    responses = model.generate_content(\n",
    "        [prompt],\n",
    "        generation_config={\n",
    "            \"max_output_tokens\": 2048,\n",
    "            \"temperature\": 0.2,\n",
    "            \"top_p\": 1\n",
    "        },\n",
    "        stream=True,\n",
    "        )\n",
    "    model_output = \"\"\n",
    "    for response in responses:\n",
    "        #TODO: needs different response parsers depending on the model selection\n",
    "        model_output += (response.candidates[0].content.parts[0].text)\n",
    "    return model_output"
   ]
  },
  {
   "cell_type": "code",
   "execution_count": 62,
   "id": "56202f96-a390-420d-9001-362f096b6efb",
   "metadata": {},
   "outputs": [
    {
     "data": {
      "text/plain": [
       "'9'"
      ]
     },
     "execution_count": 62,
     "metadata": {},
     "output_type": "execute_result"
    }
   ],
   "source": [
    "generate(configs,\"what is five plus four?\")"
   ]
  },
  {
   "cell_type": "code",
   "execution_count": 63,
   "id": "ac787a9e-0fd7-48a2-93b2-61f599ce2ea2",
   "metadata": {},
   "outputs": [],
   "source": [
    "# Example loading method\n",
    "from urllib.parse import urlparse\n",
    "import json\n",
    "\n",
    "def load_examples(uri):\n",
    "    \"\"\"takes a local or remote URI for input/output ground truth examples in .jsonl format. \n",
    "    returns a list of json objects with the input/output pairs.\"\"\"\n",
    "    \n",
    "    uri_parts = urlparse(uri)\n",
    "    # with open (uri_parts.path, 'r') as f: \n",
    "    #     prompt_list.append(json.loads(f))\n",
    "    with open(uri_parts.path, 'r') as json_file:\n",
    "        prompt_list = [json.loads(line) for line in json_file]\n",
    "\n",
    "    return prompt_list"
   ]
  },
  {
   "cell_type": "code",
   "execution_count": 64,
   "id": "6699210d-c968-4795-a757-5e6b9e917abb",
   "metadata": {},
   "outputs": [],
   "source": [
    "# examples = load_examples('sample2.jsonl')"
   ]
  },
  {
   "cell_type": "code",
   "execution_count": 65,
   "id": "a1b01a8d-e4c4-45f8-bcb9-b8885702328c",
   "metadata": {},
   "outputs": [],
   "source": [
    "# for key in examples:\n",
    "    # generate(configs,key[\"input_text\"])"
   ]
  },
  {
   "cell_type": "code",
   "execution_count": 75,
   "id": "f42f25e3-26a2-4a4d-82b6-5f781e246c0a",
   "metadata": {},
   "outputs": [],
   "source": [
    "def evaluate_metrics(ground_truth, generated_text, eval_function=exact_match):\n",
    "    metric = eval_function[0]\n",
    "    if metric == \"exact_match\":\n",
    "        eval_score=exact_match(ground_truth,generated_text)\n",
    "    elif metric == \"levenshtein\":\n",
    "        eval_score=levenshtein(ground_truth,generated_text)\n",
    "    elif metric == \"rouge\":\n",
    "        eval_score=rouge(ground_truth,generated_text)\n",
    "    else: eval_score = \"not specified\"\n",
    "    return eval_score"
   ]
  },
  {
   "cell_type": "code",
   "execution_count": 76,
   "id": "2b92d181-bb76-4969-8285-f4bd6b10f076",
   "metadata": {},
   "outputs": [],
   "source": [
    "# def run_evals(configs):\n",
    "#     prompt_list = load_examples(configs[\"prompt_file\"])\n",
    "#     if \"csv\" in configs[\"logging_output\"]:\n",
    "#         output_filename = datetime.now().strftime(\"%Y-%m-%d_%H-%M-%S\") + \".csv\"\n",
    "#         with open(output_filename, \"w\") as f:\n",
    "#             f.write(\"input_text, output_text, generated_text\\n\")\n",
    "            \n",
    "#     for key in prompt_list: \n",
    "#         generated_text = generate(configs, key[\"input_text\"])\n",
    "\n",
    "#         for log_method in configs[\"logging_output\"]:\n",
    "            \n",
    "#             match log_method:\n",
    "#                 case \"stdout\":\n",
    "#                     print(generated_text)\n",
    "#                 case \"csv\":\n",
    "#                     with open(output_filename, \"a\") as f:\n",
    "#                         f.write(key[\"input_text\"] + \",\")\n",
    "#                         f.write(key[\"output_text\"] + \",\")\n",
    "#                         f.write(generated_text + \"\\n\")\n",
    "#                 case _:\n",
    "#                     print(generated_text)\n",
    "def run_evals(configs):\n",
    "    prompt_list = load_examples(configs[\"prompt_file\"])\n",
    "    output_filename = datetime.now().strftime(\"%Y-%m-%d_%H-%M-%S\")\n",
    "\n",
    "    if \"csv\" in configs[\"logging_output\"]:\n",
    "        with open(output_filename + \".csv\", \"w\") as f:\n",
    "            f.write(\"input_text, output_text, generated_text, score\\n\")\n",
    "            \n",
    "    for line in prompt_list: \n",
    "        input_text = line[\"input_text\"]\n",
    "        ground_truth = line[\"output_text\"]\n",
    "        generated_text = generate(configs, line[\"input_text\"])\n",
    "        eval_score = evaluate_metrics(ground_truth,generated_text,configs[\"metrics\"])\n",
    "        for log_method in configs[\"logging_output\"]:\n",
    "            if log_method == \"stdout\":\n",
    "                print(input_text,generated_text,eval_score)\n",
    "            elif log_method == \"csv\":\n",
    "                with open(output_filename + \".csv\" , \"a\") as f:  # Changed to \"a\" for appending\n",
    "                    f.write(input_text + \",\")\n",
    "                    f.write(ground_truth + \",\")\n",
    "                    f.write(generated_text + \",\")\n",
    "                    f.write(eval_score + \"\\n\")\n",
    "            else:\n",
    "                print(input_text,generated_text,eval_score) \n",
    "    # evaluate_metrics"
   ]
  },
  {
   "cell_type": "code",
   "execution_count": 77,
   "id": "faa515f5-3539-49a0-abbf-212ee49b0b75",
   "metadata": {},
   "outputs": [
    {
     "name": "stdout",
     "output_type": "stream",
     "text": [
      "question: How many people live in Beijing? context: With over 21 million residents, Beijing is the world's most populous national capital city and is China's second largest city after Shanghai. It is located in Northern China, and is governed as a municipality under the direct administration of the State Council with 16 urban, suburban, and rural districts.[14] Beijing is mostly surrounded by Hebei Province with the exception of neighboring Tianjin to the southeast; together, the three divisions form the Jingjinji megalopolis and the national capital region of China. 21 million 0\n",
      "question: How many parishes are there in Louisiana? context: The U.S. state of Louisiana is divided into 64 parishes (French: paroisses) in the same manner that 48 other states of the United States are divided into counties, and Alaska is divided into boroughs. 64 1\n"
     ]
    }
   ],
   "source": [
    "run_evals(configs)"
   ]
  },
  {
   "cell_type": "code",
   "execution_count": null,
   "id": "cf97e3d6-60c6-4043-a070-84f698e445e3",
   "metadata": {},
   "outputs": [],
   "source": []
  }
 ],
 "metadata": {
  "kernelspec": {
   "display_name": "Python 3 (ipykernel)",
   "language": "python",
   "name": "python3"
  },
  "language_info": {
   "codemirror_mode": {
    "name": "ipython",
    "version": 3
   },
   "file_extension": ".py",
   "mimetype": "text/x-python",
   "name": "python",
   "nbconvert_exporter": "python",
   "pygments_lexer": "ipython3",
   "version": "3.9.6"
  }
 },
 "nbformat": 4,
 "nbformat_minor": 5
}
